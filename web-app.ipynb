{
  "nbformat": 4,
  "nbformat_minor": 0,
  "metadata": {
    "colab": {
      "provenance": []
    },
    "kernelspec": {
      "name": "python3",
      "display_name": "Python 3"
    },
    "language_info": {
      "name": "python"
    }
  },
  "cells": [
    {
      "cell_type": "code",
      "source": [
        "!git clone https://github.com/ArisoonDt/flask-ngrok-dog-breed-classification-app.git"
      ],
      "metadata": {
        "colab": {
          "base_uri": "https://localhost:8080/"
        },
        "id": "Dt_GnFJOHh-7",
        "outputId": "7a42438d-447a-411a-b94e-4d8d0d1e63e2"
      },
      "execution_count": 6,
      "outputs": [
        {
          "output_type": "stream",
          "name": "stdout",
          "text": [
            "Cloning into 'flask-ngrok-dog-breed-classification-app'...\n",
            "remote: Enumerating objects: 11, done.\u001b[K\n",
            "remote: Counting objects: 100% (11/11), done.\u001b[K\n",
            "remote: Compressing objects: 100% (8/8), done.\u001b[K\n",
            "remote: Total 11 (delta 0), reused 0 (delta 0), pack-reused 0\u001b[K\n",
            "Receiving objects: 100% (11/11), 347.43 KiB | 1.52 MiB/s, done.\n"
          ]
        }
      ]
    },
    {
      "cell_type": "code",
      "source": [
        "!pip install flask"
      ],
      "metadata": {
        "colab": {
          "base_uri": "https://localhost:8080/"
        },
        "id": "eAz9IBeufUvD",
        "outputId": "8eaca027-c0e6-4bfc-a41b-da5363119abf"
      },
      "execution_count": 1,
      "outputs": [
        {
          "output_type": "stream",
          "name": "stdout",
          "text": [
            "Requirement already satisfied: flask in /usr/local/lib/python3.10/dist-packages (2.2.5)\n",
            "Requirement already satisfied: Werkzeug>=2.2.2 in /usr/local/lib/python3.10/dist-packages (from flask) (3.0.1)\n",
            "Requirement already satisfied: Jinja2>=3.0 in /usr/local/lib/python3.10/dist-packages (from flask) (3.1.2)\n",
            "Requirement already satisfied: itsdangerous>=2.0 in /usr/local/lib/python3.10/dist-packages (from flask) (2.1.2)\n",
            "Requirement already satisfied: click>=8.0 in /usr/local/lib/python3.10/dist-packages (from flask) (8.1.7)\n",
            "Requirement already satisfied: MarkupSafe>=2.0 in /usr/local/lib/python3.10/dist-packages (from Jinja2>=3.0->flask) (2.1.3)\n"
          ]
        }
      ]
    },
    {
      "cell_type": "code",
      "source": [
        "!pip install pyngrok==4.1.1"
      ],
      "metadata": {
        "colab": {
          "base_uri": "https://localhost:8080/"
        },
        "id": "KNu8sGFSu6Zz",
        "outputId": "9b93e5dd-82ac-43fd-da92-a4e92e2529e4"
      },
      "execution_count": 2,
      "outputs": [
        {
          "output_type": "stream",
          "name": "stdout",
          "text": [
            "Requirement already satisfied: pyngrok==4.1.1 in /usr/local/lib/python3.10/dist-packages (4.1.1)\n",
            "Requirement already satisfied: future in /usr/local/lib/python3.10/dist-packages (from pyngrok==4.1.1) (0.18.3)\n",
            "Requirement already satisfied: PyYAML in /usr/local/lib/python3.10/dist-packages (from pyngrok==4.1.1) (6.0.1)\n"
          ]
        }
      ]
    },
    {
      "cell_type": "code",
      "source": [
        "!ngrok config add-authtoken 2USPo5uZdR4RHJEpn8jHugEg7tv_YbS1dVrgbHsGweNDq76s"
      ],
      "metadata": {
        "colab": {
          "base_uri": "https://localhost:8080/"
        },
        "id": "knXXAmSbABur",
        "outputId": "138e6733-d0ee-4e50-b618-ca107b1906a1"
      },
      "execution_count": 3,
      "outputs": [
        {
          "output_type": "stream",
          "name": "stdout",
          "text": [
            "Authtoken saved to configuration file: /root/.ngrok2/ngrok.yml\n"
          ]
        }
      ]
    },
    {
      "cell_type": "code",
      "source": [
        "from flask_ngrok import run_with_ngrok\n",
        "from flask import Flask, render_template, request\n",
        "from model_utils import detect_you\n",
        "import os\n",
        "import threading\n",
        "from pyngrok import ngrok\n",
        "\n",
        "\n",
        "app = Flask(__name__)\n",
        "port = \"5000\"\n",
        "\n",
        "os.environ[\"FLASK_DEBUG\"] = '1'\n",
        "\n",
        "public_url = ngrok.connect(port).public_url\n",
        "print(\" * ngrok tunnel \\\"{}\\\" -> \\\"http://127.0.0.1:{}\\\"\".format(public_url, port))\n",
        "app.config[\"BASE_URL\"] = public_url\n",
        "\n",
        "# routes\n",
        "@app.route(\"/\", methods=['GET', 'POST'])\n",
        "def main():\n",
        "\treturn render_template(\"index.html\")\n",
        "\n",
        "\n",
        "@app.route(\"/submit\", methods = ['GET', 'POST'])\n",
        "def get_output():\n",
        "\tif request.method == 'POST':\n",
        "\t\timg = request.files['my_image']\n",
        "\n",
        "\t\timg_path = \"static/\" + img.filename\n",
        "\t\timg.save(img_path)\n",
        "\n",
        "\t\tp = detect_you(img_path)\n",
        "\n",
        "\treturn render_template(\"index.html\", prediction = p ,img_path = img_path)\n",
        "\n",
        "\n",
        "threading.Thread(target=app.run, kwargs={\"use_reloader\": False}).start()"
      ],
      "metadata": {
        "id": "ocJKYLHXd_vb"
      },
      "execution_count": null,
      "outputs": []
    }
  ]
}